{
  "cells": [
    {
      "cell_type": "markdown",
      "metadata": {
        "id": "view-in-github",
        "colab_type": "text"
      },
      "source": [
        "<a href=\"https://colab.research.google.com/github/ulissesaalencar/ET_SDTF/blob/main/STEEP.ipynb\" target=\"_parent\"><img src=\"https://colab.research.google.com/assets/colab-badge.svg\" alt=\"Open In Colab\"/></a>"
      ]
    },
    {
      "cell_type": "markdown",
      "id": "55393daa",
      "metadata": {
        "id": "55393daa"
      },
      "source": [
        "# Evapotranspiration in the FTSS <br> <br> Research Group: Ulisses Bezerra, John Cunha, Fernanda Valente, Rodolfo Nóbrega, João Andrade, Magna Moura, Anne Verhoef, Aldrin Marin, Carlos Galvão. <br> <br> UNIVERSITY - UNIVERSIDADE FEDERAL DE CAMPINA GRANDE - UFCG <br> <br> LAB - Laboratory of Hydraulic-BU <br> <br> BRAZIL, CAMPINA GRANDE - PB <br> <br> Script developed by: Ulisses Bezerra em: (08.06.2021), Revised by: John Cunha, João Andrade. <br> <br> Last change 02.06.2022<br> <br> Contact: ulisses.alencar@estudante.ufcg.edu.br\n",
        "---"
      ]
    },
    {
      "cell_type": "markdown",
      "id": "4fcc5ccb",
      "metadata": {
        "id": "4fcc5ccb"
      },
      "source": [
        "# STEEP - Seasonal Tropical Ecosystem Energy Partitioning"
      ]
    },
    {
      "cell_type": "markdown",
      "id": "0f7466c0",
      "metadata": {
        "id": "0f7466c0"
      },
      "source": [
        "## Initial requirements"
      ]
    },
    {
      "cell_type": "markdown",
      "id": "5272afdc",
      "metadata": {
        "id": "5272afdc"
      },
      "source": [
        "### Loading packages"
      ]
    },
    {
      "cell_type": "code",
      "execution_count": null,
      "id": "19249186",
      "metadata": {
        "id": "19249186"
      },
      "outputs": [],
      "source": [
        "# !pip install geemap\n",
        "import os\n",
        "import ee\n",
        "import geemap\n",
        "import hydrostats.metrics as hm\n",
        "import numpy as np\n",
        "import pandas as pd\n",
        "import datetime\n",
        "import pprint\n",
        "import math\n",
        "import matplotlib.pyplot as plt\n",
        "\n",
        "Map = geemap.Map()"
      ]
    },
    {
      "cell_type": "markdown",
      "id": "cb159dd8",
      "metadata": {
        "id": "cb159dd8"
      },
      "source": [
        "### Date start/end"
      ]
    },
    {
      "cell_type": "code",
      "execution_count": null,
      "id": "ea948e74",
      "metadata": {
        "id": "ea948e74",
        "outputId": "d4816393-b7f8-4425-ee9c-c0ed0f5860c8"
      },
      "outputs": [
        {
          "name": "stderr",
          "output_type": "stream",
          "text": [
            "<ipython-input-2-4337b71438f0>:7: FutureWarning: The pandas.datetime class is deprecated and will be removed from pandas in a future version. Import from datetime module instead.\n",
            "  dates = pd.date_range(start=pd.datetime(year, 1, 1),end=pd.datetime(year, 12, 31))\n"
          ]
        }
      ],
      "source": [
        "#set the year!\n",
        "year = 2014\n",
        "\n",
        "start = str(year) + '-' + '01' + '-01'\n",
        "end = str(year+(1)) + '-' + '01' + '-01'\n",
        "\n",
        "dates = pd.date_range(start=pd.datetime(year, 1, 1),end=pd.datetime(year, 12, 31))"
      ]
    },
    {
      "cell_type": "markdown",
      "id": "ecef1342",
      "metadata": {
        "id": "ecef1342"
      },
      "source": [
        "### List of coefficients"
      ]
    },
    {
      "cell_type": "code",
      "execution_count": null,
      "id": "431d1c0e",
      "metadata": {
        "id": "431d1c0e"
      },
      "outputs": [],
      "source": [
        "#List of coefficients\n",
        "# Kelvin to Celsius\n",
        "c3 = ee.Number(273.15)\n",
        "# Von karman constant\n",
        "von = ee.Number(0.41)\n",
        "# Stefan-Boltzmann constant\n",
        "sigma_SB = ee.Number(0.000000056704)"
      ]
    },
    {
      "cell_type": "markdown",
      "id": "ea038293",
      "metadata": {
        "id": "ea038293"
      },
      "source": [
        "### ROI"
      ]
    },
    {
      "cell_type": "code",
      "execution_count": null,
      "id": "b400e363",
      "metadata": {
        "id": "b400e363"
      },
      "outputs": [],
      "source": [
        "#set the coordinate!\n",
        "pts = ee.Geometry.Point([-37.2514, -6.5783]) \n",
        "pts1 = pts.buffer(500000);\n",
        "\n",
        "caatinga = ee.FeatureCollection('users/ulissesalencar17/caatinga')\n",
        "pts1 = pts1.bounds()\n",
        "\n",
        "ROI = pts1\n",
        "roi = ROI\n",
        "\n",
        "def clipper(image):\n",
        "    return image.clip(caatinga)"
      ]
    },
    {
      "cell_type": "markdown",
      "id": "6b0dcc79",
      "metadata": {
        "id": "6b0dcc79"
      },
      "source": [
        "## Input data"
      ]
    },
    {
      "cell_type": "markdown",
      "id": "8a0ed037",
      "metadata": {
        "id": "8a0ed037"
      },
      "source": [
        "### Weather inputs "
      ]
    },
    {
      "cell_type": "markdown",
      "id": "c18d0f23",
      "metadata": {
        "id": "c18d0f23"
      },
      "source": [
        "#### ERA5-land"
      ]
    },
    {
      "cell_type": "code",
      "execution_count": null,
      "id": "4eaff914",
      "metadata": {
        "id": "4eaff914"
      },
      "outputs": [],
      "source": [
        "#UTC in Caatinga BR is -3 \n",
        "climatic_terra = ee.ImageCollection(\"ECMWF/ERA5_LAND/HOURLY\") \\\n",
        ".filter(ee.Filter.date(start, end)) \\\n",
        ".filter(ee.Filter.calendarRange(14,14,'hour')) \\\n",
        ".map(clipper)\n",
        "\n",
        "climatic_day = ee.ImageCollection(\"ECMWF/ERA5_LAND/HOURLY\") \\\n",
        ".filter(ee.Filter.date(start, end)) \\\n",
        ".select(['surface_net_solar_radiation_hourly','surface_net_thermal_radiation_hourly']) \\\n",
        ".map(clipper)\n",
        "                \n",
        "inidate = ee.Date(start) \n",
        "enddate = ee.Date(end) \n",
        "\n",
        "difdate = enddate.difference(inidate, 'day')\n",
        "\n",
        "# Time lapse\n",
        "lapse = ee.List.sequence(0, difdate.subtract(1))\n",
        "\n",
        "def func_pts(day):\n",
        "    return inidate.advance(day, 'day')\n",
        "\n",
        "listdates = lapse.map(func_pts)\n",
        "\n",
        "# Daily dataset\n",
        "def func_cac_mean(day):\n",
        "    day = ee.Date(day)\n",
        "    daily_collection = climatic_day.filter(ee.Filter.date(day, day.advance(1, 'day')))\n",
        "    convert_Rs = daily_collection.select(['surface_net_solar_radiation_hourly']);\n",
        "    convert_Rl = daily_collection.select(['surface_net_thermal_radiation_hourly']);\n",
        "    convert_Rs_day = convert_Rs.sum().divide(86400);\n",
        "    convert_Rl_day = convert_Rl.sum().divide(86400);\n",
        "    Rn_d = (convert_Rs_day.add(convert_Rl_day)).rename('Rn_d');\n",
        "    return Rn_d.set('system:index', day.format('YYYY-MM-dd')) \\\n",
        "    .set('date', day.format('YYYY-MM-dd')) .set('system:time_start', day.millis()) \\\n",
        "    .set('system:time_end', day.millis())\n",
        "\n",
        "#RN24h\n",
        "Rn24 = ee.ImageCollection.fromImages(listdates.map(func_cac_mean))\n",
        "Rn24 = (Rn24.select(['Rn_d'])).toBands()"
      ]
    },
    {
      "cell_type": "markdown",
      "id": "74faf749",
      "metadata": {
        "id": "74faf749"
      },
      "source": [
        "#### Constant image"
      ]
    },
    {
      "cell_type": "code",
      "execution_count": null,
      "id": "ef63a41d",
      "metadata": {
        "id": "ef63a41d"
      },
      "outputs": [],
      "source": [
        "def img_const(image):\n",
        "    img_1 = ee.Image.constant(1).toFloat().rename('img_1')\n",
        "    return image.set('system:time_start',image.get('system:time_start')) \\\n",
        "    .addBands(ee.Image(img_1)) \\\n",
        "    .clip(roi)\n",
        "\n",
        "img_1 = (climatic_terra.map(img_const)).select(['img_1'])\n",
        "img_1 = img_1.toBands()"
      ]
    },
    {
      "cell_type": "markdown",
      "id": "193a5dc6",
      "metadata": {
        "id": "193a5dc6"
      },
      "source": [
        "#### Inputs weather\n",
        "* Air temperature (K) (2m);  \n",
        "* dewpoint temperature (2m);  \n",
        "* u/v component of wind (10m);"
      ]
    },
    {
      "cell_type": "code",
      "execution_count": null,
      "id": "f74e6191",
      "metadata": {
        "id": "f74e6191"
      },
      "outputs": [],
      "source": [
        "#Air temperature \n",
        "temperature_terra = climatic_terra.select(['temperature_2m'])\n",
        "Tbands_terra = temperature_terra.toBands()\n",
        "T_air_band_K_terra = Tbands_terra\n",
        "T_air_band_C_terra = Tbands_terra.subtract(c3)\n",
        "\n",
        "#SRTM\n",
        "srtm = ee.Image('USGS/SRTMGL1_003')\n",
        "\n",
        "elevation = srtm.select('elevation')\n",
        "#elevation -> 365 bands\n",
        "elevation_1 = img_1.multiply(elevation)\n",
        "alt_mean_img = elevation_1.clip(ROI)\n",
        "\n",
        "img_const_1 = (alt_mean_img.multiply(0)).add(1)\n",
        "\n",
        "#Relative humidity\n",
        "umi_rel_terra = climatic_terra.select(['dewpoint_temperature_2m'])\n",
        "umi_rel_terra = umi_rel_terra.toBands()\n",
        "\n",
        "tdp_terra = umi_rel_terra.subtract(c3)\n",
        "\n",
        "ea_laipelt_terra = ((img_1.exp()) \\\n",
        ".pow((tdp_terra.multiply(17.27)).divide((tdp_terra.add(237.3))))).multiply(0.6108)\n",
        "\n",
        "eo_Th_hr_terra = ((img_1.exp()) \\\n",
        ".pow((T_air_band_C_terra.multiply(17.27)).divide((T_air_band_C_terra.add(237.3))))).multiply(0.6108)\n",
        "\n",
        "rh_terra = ea_laipelt_terra.divide(eo_Th_hr_terra).multiply(100)\n",
        "\n",
        "RH_terra = rh_terra.divide(100)\n",
        "\n",
        "#wind speed\n",
        "vel_vent_terra = climatic_terra.select(['u_component_of_wind_10m'])\n",
        "vel_ventbands_terra = vel_vent_terra.toBands()\n",
        "\n",
        "vel_vent_v_terra = climatic_terra.select(['v_component_of_wind_10m'])\n",
        "vel_vent_vbands_terra = vel_vent_v_terra.toBands()\n",
        "\n",
        "vel_ventbands_abs_terra = ((vel_ventbands_terra.pow(2)).add(vel_vent_vbands_terra.pow(2))).sqrt()\n",
        "\n",
        "#Atmospheric pressure\n",
        "P_atm_hr_terra = (((img_1.multiply(T_air_band_K_terra)).subtract(elevation_1.multiply(0.0065)) \\\n",
        ".divide(T_air_band_K_terra)).pow(5.26)).multiply(101.3)"
      ]
    },
    {
      "cell_type": "markdown",
      "id": "238eb46e",
      "metadata": {
        "id": "238eb46e"
      },
      "source": [
        "### Loading MODIS repository\n",
        " Data base: \n",
        "* Earth's surface temperature LST - MOD11A1, MYD11A1\n",
        "* Earth's surface emissivity - MOD11A1\n",
        "* Zenith angle - MOD09GA\n",
        "* NADIR reflectance - MCD43A4"
      ]
    },
    {
      "cell_type": "markdown",
      "id": "e7ab55bf",
      "metadata": {
        "id": "e7ab55bf"
      },
      "source": [
        "#### Dataset MODIS"
      ]
    },
    {
      "cell_type": "code",
      "execution_count": null,
      "id": "222056ff",
      "metadata": {
        "id": "222056ff"
      },
      "outputs": [],
      "source": [
        "# LST  (scale factor 0.02)\n",
        "#TERRA \n",
        "TERRA = ee.ImageCollection('MODIS/006/MOD11A1') \\\n",
        "  .filterDate(start, end) \\\n",
        "  .select(['LST_Day_1km','Emis_31','Emis_32']) \\\n",
        "  .map(clipper)\n",
        "\n",
        "# #AQUA\n",
        "# LST1 = ee.ImageCollection(\"MODIS/006/MYD11A1\") \\\n",
        "# .filterDate(start, end) \\\n",
        "#   .select(['LST_Day_1km','Emis_31','Emis_32']) \\\n",
        "#   .map(clipper)\n",
        "\n",
        "# AngZ (scale factor 0.01)\n",
        "ANZ = ee.ImageCollection('MODIS/006/MOD09GA') \\\n",
        "  .filterDate(start, end) \\\n",
        "  .select(['SolarZenith']) \\\n",
        "  .map(clipper)\n",
        "\n",
        "# NADIR reflectance\n",
        "dataset0 = ee.ImageCollection(\"MODIS/006/MCD43A4\") \\\n",
        ".filterDate(start, end) \\\n",
        ".map(clipper)"
      ]
    },
    {
      "cell_type": "markdown",
      "id": "562f3802",
      "metadata": {
        "id": "562f3802"
      },
      "source": [
        "#### Function for filling in missing values"
      ]
    },
    {
      "cell_type": "code",
      "execution_count": null,
      "id": "e1ea06ec",
      "metadata": {
        "id": "e1ea06ec"
      },
      "outputs": [],
      "source": [
        "#fill in the missing values in the series using the 1 month window \n",
        "#TERRA\n",
        "def replaced0 (image):\n",
        "    currentDate = ee.Date(image.get('system:time_start'));\n",
        "    meanImage = TERRA.filterDate(currentDate.advance(-1, 'month'), currentDate.advance(1, 'month')).mean();\n",
        "    return meanImage.where(image, image).set('Date', currentDate,'system:time_start',currentDate.millis())\n",
        "\n",
        "TERRA = TERRA.map(replaced0)\n",
        "\n",
        "LST = TERRA.select('LST_Day_1km')\n",
        "EMI1 = TERRA.select('Emis_31')\n",
        "EMI2 = TERRA.select('Emis_32')\n",
        "\n",
        "# AngZ\n",
        "def replaced4 (image):\n",
        "    currentDate = ee.Date(image.get('system:time_start'));\n",
        "    meanImage = ANZ.filterDate(currentDate.advance(-1, 'month'), currentDate.advance(1, 'month')).mean();\n",
        "    return meanImage.where(image, image).set('Date', currentDate,'system:time_start',currentDate.millis())\n",
        "ANZ = ANZ.map(replaced4)"
      ]
    },
    {
      "cell_type": "markdown",
      "id": "1acff161",
      "metadata": {
        "id": "1acff161"
      },
      "source": [
        "#### Scale fator"
      ]
    },
    {
      "cell_type": "code",
      "execution_count": null,
      "id": "cac31677",
      "metadata": {
        "id": "cac31677"
      },
      "outputs": [],
      "source": [
        "#scale factor  0.001\n",
        "def scale1(scene):\n",
        "    # get a string representation of the date.\n",
        "    dateString = ee.Date (scene.get('system:time_start')).format('yyyy-MM-dd')\n",
        "    scale1 = scene.multiply(0.001)\n",
        "    return scale1.rename(dateString)\n",
        "\n",
        "#scale factor  0.02\n",
        "def scale2(scene):\n",
        "    # get a string representation of the date.\n",
        "    dateString = ee.Date (scene.get('system:time_start')).format('yyyy-MM-dd')\n",
        "    scale2 = scene.multiply(0.02)\n",
        "    return scale2.rename(dateString)\n",
        "\n",
        "#scale factor  0.002\n",
        "def scale3(scene):\n",
        "    # get a string representation of the date.\n",
        "    dateString = ee.Date (scene.get('system:time_start')).format('yyyy-MM-dd')\n",
        "    scale3 = scene.multiply(0.002)\n",
        "    return scale3.rename(dateString)\n",
        "\n",
        "#scale factor  0.01\n",
        "def scale4(scene):\n",
        "    # get a string representation of the date.\n",
        "    dateString = ee.Date (scene.get('system:time_start')).format('yyyy-MM-dd')\n",
        "    scale4 = scene.multiply(0.01)\n",
        "    return scale4.rename(dateString)"
      ]
    },
    {
      "cell_type": "code",
      "execution_count": null,
      "id": "5bb6760e",
      "metadata": {
        "id": "5bb6760e"
      },
      "outputs": [],
      "source": [
        "LST_ESC = LST.map(scale2)\n",
        "# LST_ESC1 = LST1.map(scale2)\n",
        "\n",
        "EMI1_ESC = EMI1.map(scale3)\n",
        "EMI2_ESC = EMI2.map(scale3)\n",
        "\n",
        "ANZ_ESC = ANZ.map(scale4)"
      ]
    },
    {
      "cell_type": "code",
      "execution_count": null,
      "id": "7ced7e3d",
      "metadata": {
        "id": "7ced7e3d"
      },
      "outputs": [],
      "source": [
        "LST_ESCbands0 = LST_ESC.toBands().multiply(img_const_1) #TERRA\n",
        "# LST_ESCbands1 = LST_ESC1.toBands().multiply(img_const_1) #AQUA\n",
        "\n",
        "EMI1_ESCbands = EMI1_ESC.toBands().multiply(img_const_1)\n",
        "EMI2_ESCbands = EMI2_ESC.toBands().multiply(img_const_1)\n",
        "\n",
        "ANZ_ESCbands = ANZ_ESC.toBands().multiply(img_const_1)\n",
        "ANZ_ESCbands = ANZ_ESCbands.selfMask()\n",
        "ANZ_ESCbands = ANZ_ESCbands.reduceRegion(**{\n",
        "  'reducer': ee.Reducer.median(),\n",
        "  'geometry': ROI,\n",
        "#   'scale': 2000,\n",
        "  'bestEffort': True\n",
        "  #maxPixels: 1e9\n",
        "})\n",
        "ANZ_ESCbands = ANZ_ESCbands.toImage()\n",
        "ANZ_ESCbands = ANZ_ESCbands.clip(ROI)"
      ]
    },
    {
      "cell_type": "markdown",
      "id": "37570f97",
      "metadata": {
        "id": "37570f97"
      },
      "source": [
        "### Compute albedo"
      ]
    },
    {
      "cell_type": "code",
      "execution_count": null,
      "id": "a2ab3da6",
      "metadata": {
        "id": "a2ab3da6"
      },
      "outputs": [],
      "source": [
        "# Calculating albedo\n",
        "\n",
        "# product MCD43A4\n",
        "b1 = dataset0.select(['Nadir_Reflectance_Band1'])\n",
        "b1 = b1.toBands().multiply(img_const_1)\n",
        "b1 = b1.multiply(0.0001)\n",
        "b2 = dataset0.select(['Nadir_Reflectance_Band2'])\n",
        "b2 = b2.toBands().multiply(img_const_1)\n",
        "b2 = b2.multiply(0.0001)\n",
        "b3 = dataset0.select(['Nadir_Reflectance_Band3'])\n",
        "b3 = b3.toBands().multiply(img_const_1)\n",
        "b3 = b3.multiply(0.0001)\n",
        "b4 = dataset0.select(['Nadir_Reflectance_Band4'])\n",
        "b4 = b4.toBands().multiply(img_const_1)\n",
        "b4 = b4.multiply(0.0001)\n",
        "b5 = dataset0.select(['Nadir_Reflectance_Band5'])\n",
        "b5 = b5.toBands().multiply(img_const_1)\n",
        "b5 = b5.multiply(0.0001)\n",
        "b6 = dataset0.select(['Nadir_Reflectance_Band6'])\n",
        "b6 = b6.toBands().multiply(img_const_1)\n",
        "b6 = b6.multiply(0.0001)\n",
        "b7 = dataset0.select(['Nadir_Reflectance_Band7'])\n",
        "b7 = b7.toBands().multiply(img_const_1)\n",
        "b7 = b7.multiply(0.0001)\n",
        "\n",
        "# according to the recommendations of Trezza et al. (2013)\n",
        "ALB_ESCbands = (b1.multiply(0.215)).add(b2.multiply(0.266)) \\\n",
        ".add(b3.multiply(0.242)).add(b4.multiply(0.129)) \\\n",
        ".add(b5.multiply(0.00)).add(b6.multiply(0.112)) \\\n",
        ".add(b7.multiply(0.036))"
      ]
    },
    {
      "cell_type": "markdown",
      "id": "7e0915a3",
      "metadata": {
        "id": "7e0915a3"
      },
      "source": [
        "### LST"
      ]
    },
    {
      "cell_type": "code",
      "execution_count": null,
      "id": "fe16c266",
      "metadata": {
        "id": "fe16c266"
      },
      "outputs": [],
      "source": [
        "#TERRA\n",
        "LST_ESCbands_terra = LST_ESCbands0\n",
        "LST_ESCbands_terraC = LST_ESCbands_terra.subtract(c3)\n",
        "\n",
        "#AQUA\n",
        "# LST_ESCbands_aqua = LST_ESCbands1\n",
        "# LST_ESCbands_aquaC = LST_ESCbands_aqua.subtract(c3)\n",
        "\n",
        "#BLEND AQUA TERRA\n",
        "# LST_ESCbands = LST_ESCbands0.blend(LST_ESCbands1)"
      ]
    },
    {
      "cell_type": "markdown",
      "id": "606ccfa2",
      "metadata": {
        "id": "606ccfa2"
      },
      "source": [
        "### Compute Vegetation index"
      ]
    },
    {
      "cell_type": "code",
      "execution_count": null,
      "id": "33d0717e",
      "metadata": {
        "id": "33d0717e"
      },
      "outputs": [],
      "source": [
        "# NDVI\n",
        "NDVIbands = (b2.subtract(b1)).divide(b2.add(b1))"
      ]
    },
    {
      "cell_type": "code",
      "execution_count": null,
      "id": "c72e7bba",
      "metadata": {
        "id": "c72e7bba"
      },
      "outputs": [],
      "source": [
        "# SAVI Miranda et al., 2020\n",
        "savi = ((b2.subtract(b1)).divide(((b2.add(b1)).add(0.37)))).multiply(1.37)"
      ]
    },
    {
      "cell_type": "code",
      "execution_count": null,
      "id": "44b1df19",
      "metadata": {
        "id": "44b1df19"
      },
      "outputs": [],
      "source": [
        "# LAI Miranda et al., 2020\n",
        "LAI_ = (((savi.pow(2)).multiply(11)).add(0.2))\n",
        "\n",
        "#LAI Paul et al 2014\n",
        "# LAI_ = (NDVIbands.pow(3.616)).multiply(8.768)"
      ]
    },
    {
      "cell_type": "code",
      "execution_count": null,
      "id": "f4b1f907",
      "metadata": {
        "id": "f4b1f907"
      },
      "outputs": [],
      "source": [
        "# PAI Miranda et al., 2020\n",
        "PAI = (((b2.subtract((b1.sqrt()))).multiply(10.1)).add(3.1))"
      ]
    },
    {
      "cell_type": "markdown",
      "id": "e1859654",
      "metadata": {
        "id": "e1859654"
      },
      "source": [
        "### DR and DOY"
      ]
    },
    {
      "cell_type": "code",
      "execution_count": null,
      "id": "74a96edc",
      "metadata": {
        "id": "74a96edc"
      },
      "outputs": [],
      "source": [
        "#dr - Relative Distance Solar\n",
        "def addDate(image):\n",
        "    # calculate the doy band\n",
        "    doy = image.date().getRelative('day', 'year')\n",
        "    doyBand = ee.Image.constant(doy).uint16().rename('doy')\n",
        "    doyBand = doyBand.updateMask(image.select('Nadir_Reflectance_Band2').mask())\n",
        "    # calculate the dr using: dr = 1 + 0.033*cos(J*2*pi/365)\n",
        "    temp = doyBand.multiply(2).multiply(math.pi).divide(365)\n",
        "    temp2 = temp.cos()\n",
        "    dr = temp2.multiply(0.033).add(1).rename('dr')\n",
        "    # add the bands to the image\n",
        "    return image.addBands([doyBand, dr]);\n",
        "\n",
        "withDate = dataset0.map(addDate)\n",
        "\n",
        "DR_ = (withDate.select('dr'))\n",
        "\n",
        "doyBand = (withDate.select('doy'))\n",
        "\n",
        "DR_bands = DR_.toBands().multiply(img_const_1)\n",
        "\n",
        "DR_bands = DR_bands.reduceRegion(\n",
        "  reducer = ee.Reducer.max(),\n",
        "  geometry = ROI,\n",
        "#   scale = 500,\n",
        "  bestEffort = True,\n",
        ")\n",
        "\n",
        "DR_bands = DR_bands.toImage()\n",
        "DR_bands = DR_bands.clip(ROI)\n",
        "\n",
        "doyBandbands = doyBand.toBands().multiply(img_const_1)\n",
        "doyBandbands = doyBandbands.add(1)\n",
        "\n",
        "doyBandbands = doyBandbands.reduceRegion(\n",
        "  reducer = ee.Reducer.max(),\n",
        "  geometry = ROI,\n",
        "#   scale = 500,\n",
        "  bestEffort = True,\n",
        ")\n",
        "\n",
        "doyBandbands = doyBandbands.toImage()\n",
        "doyBandbands = doyBandbands.clip(ROI)"
      ]
    },
    {
      "cell_type": "markdown",
      "id": "b56078dd",
      "metadata": {
        "id": "b56078dd"
      },
      "source": [
        "## Net radiation Satellite"
      ]
    },
    {
      "cell_type": "markdown",
      "id": "5c370f8c",
      "metadata": {
        "id": "5c370f8c"
      },
      "source": [
        "### Emissivity in each pixel"
      ]
    },
    {
      "cell_type": "code",
      "execution_count": null,
      "id": "d3292ef8",
      "metadata": {
        "id": "d3292ef8"
      },
      "outputs": [],
      "source": [
        "#Emissivity in each pixel (DI LONG et al., 2010; LIANG, 2004)\n",
        "band31 = EMI1_ESCbands.add(0.490)\n",
        "band32 = EMI2_ESCbands.add(0.490)\n",
        "\n",
        "EMI_MEAN = img_1.multiply(0.273).add(band31.multiply(1.778)).subtract(band31.multiply(band32).multiply(1.807))\\\n",
        ".subtract(band32.multiply(1.037)).add((band32.pow(2)).multiply(1.774))\n",
        "\n",
        "EMI_MEAN = EMI_MEAN.reduceRegion(**{\n",
        "  'reducer': ee.Reducer.median(),\n",
        "  'geometry': ROI,\n",
        "  #scale: 30,\n",
        "  'bestEffort': True\n",
        "  #maxPixels: 1e9\n",
        "})\n",
        "\n",
        "EMI_MEAN = EMI_MEAN.toImage()\n",
        "EMI_MEAN = EMI_MEAN.clip(ROI)"
      ]
    },
    {
      "cell_type": "markdown",
      "id": "a136fd9f",
      "metadata": {
        "id": "a136fd9f"
      },
      "source": [
        "### Long wave radiation emitted by the surface"
      ]
    },
    {
      "cell_type": "code",
      "execution_count": null,
      "id": "c1e6e43a",
      "metadata": {
        "id": "c1e6e43a"
      },
      "outputs": [],
      "source": [
        "REMI_terra = ((LST_ESCbands_terra.pow(4)).multiply(EMI_MEAN)).multiply(sigma_SB)"
      ]
    },
    {
      "cell_type": "markdown",
      "id": "8fa28d3e",
      "metadata": {
        "id": "8fa28d3e"
      },
      "source": [
        "### Atmospheric Transmissivity"
      ]
    },
    {
      "cell_type": "code",
      "execution_count": null,
      "id": "ab12b499",
      "metadata": {
        "id": "ab12b499"
      },
      "outputs": [],
      "source": [
        "ANZ_ESCbands_rad = ANZ_ESCbands.multiply(3.1415).divide(180)\n",
        "cosZ = ANZ_ESCbands_rad.cos()\n",
        "\n",
        "Kt = img_1 #Kt = 1, for clear, clear skies\n",
        "\n",
        "W_prec_terra = (ea_laipelt_terra.multiply(0.14).multiply(P_atm_hr_terra)).add(2.10)\n",
        "\n",
        "temp_TSW_1_terra = ((W_prec_terra.divide(cosZ)).pow(0.4)).multiply(0.075) #aqui cosZ do terra\n",
        "\n",
        "temp_TSW_2_terra = (P_atm_hr_terra.multiply(-0.00146)).divide(Kt.multiply(cosZ))\n",
        "\n",
        "temp_TSW_3_terra = temp_TSW_2_terra.subtract(temp_TSW_1_terra)\n",
        "\n",
        "TSW_1_terra = (((img_1.exp()).pow(temp_TSW_3_terra)).multiply(0.627)).add(0.35)"
      ]
    },
    {
      "cell_type": "markdown",
      "id": "7bc2f2a5",
      "metadata": {
        "id": "7bc2f2a5"
      },
      "source": [
        "### Atmospheric emissivity - by duarte et al 2006"
      ]
    },
    {
      "cell_type": "code",
      "execution_count": null,
      "id": "ac7409a6",
      "metadata": {
        "id": "ac7409a6"
      },
      "outputs": [],
      "source": [
        "#By duarte et al. 2006\n",
        "\n",
        "EA_terra = (((ea_laipelt_terra.divide(T_air_band_K_terra)).pow(0.131)).multiply(1.545))"
      ]
    },
    {
      "cell_type": "markdown",
      "id": "ead72245",
      "metadata": {
        "id": "ead72245"
      },
      "source": [
        "### Incident longwave radiation (emitted by the atmosphere)"
      ]
    },
    {
      "cell_type": "code",
      "execution_count": null,
      "id": "8f19ba7b",
      "metadata": {
        "id": "8f19ba7b"
      },
      "outputs": [],
      "source": [
        "RLATM_terra = ((EA_terra.multiply(sigma_SB)).multiply(T_air_band_K_terra.pow(4)))"
      ]
    },
    {
      "cell_type": "markdown",
      "id": "b9876c31",
      "metadata": {
        "id": "b9876c31"
      },
      "source": [
        "### Incident short wave radiation"
      ]
    },
    {
      "cell_type": "code",
      "execution_count": null,
      "id": "dc196f5d",
      "metadata": {
        "id": "dc196f5d"
      },
      "outputs": [],
      "source": [
        "RSIN_terra = (ANZ_ESCbands_rad.cos()).multiply(1367).multiply(TSW_1_terra).multiply(img_1.divide(DR_bands))"
      ]
    },
    {
      "cell_type": "markdown",
      "id": "0e241c29",
      "metadata": {
        "id": "0e241c29"
      },
      "source": [
        "### Net radiation Rn"
      ]
    },
    {
      "cell_type": "code",
      "execution_count": null,
      "id": "bfce6c05",
      "metadata": {
        "id": "bfce6c05"
      },
      "outputs": [],
      "source": [
        "Rns_terra = (img_1.subtract(ALB_ESCbands).multiply(RSIN_terra))\n",
        "\n",
        "temp_rol_atm_terra = (img_1.subtract(EMI_MEAN)).multiply(RLATM_terra)\n",
        "\n",
        "Rn_1_terra = (Rns_terra.add(RLATM_terra.subtract(REMI_terra))).subtract(temp_rol_atm_terra)  "
      ]
    },
    {
      "cell_type": "markdown",
      "id": "ec0bcf20",
      "metadata": {
        "id": "ec0bcf20"
      },
      "source": [
        "### Soil heat flux G"
      ]
    },
    {
      "cell_type": "code",
      "execution_count": null,
      "id": "faf5bb8b",
      "metadata": {
        "id": "faf5bb8b"
      },
      "outputs": [],
      "source": [
        "G1_terra = Rn_1_terra.expression(\n",
        "    '((ndvi>=0)*(((Ts*(0.0038+0.0074*albesup))*(1-0.98*ndvi**4))*Rn))+((ndvi<0)*(0.5*Rn))', {\n",
        "    'Ts': LST_ESCbands_terraC,\n",
        "    'ndvi':NDVIbands,\n",
        "    'albesup': ALB_ESCbands,\n",
        "    'Rn': Rn_1_terra\n",
        "})"
      ]
    },
    {
      "cell_type": "markdown",
      "id": "47605482",
      "metadata": {
        "id": "47605482"
      },
      "source": [
        "## roughness length for momentum  Z0M"
      ]
    },
    {
      "cell_type": "markdown",
      "id": "5689071e",
      "metadata": {
        "id": "5689071e"
      },
      "source": [
        "### height of vegetation | satellite product"
      ]
    },
    {
      "cell_type": "code",
      "execution_count": null,
      "id": "2d685085",
      "metadata": {
        "id": "2d685085"
      },
      "outputs": [],
      "source": [
        "var_name = ['GEDI_SAM_v27']\n",
        "gediSAM_v27 = ee.ImageCollection('users/potapovpeter/GEDI_V27').filter(ee.Filter.inList('system:index',var_name))\n",
        "gedi_band = gediSAM_v27.toBands()\n",
        "\n",
        "roi_forest = pts.buffer(10000)\n",
        "roi_forest = roi_forest.bounds()\n",
        "\n",
        "forestCanopyHeight1 = (gedi_band.selfMask())\n",
        "forestCanopyHeight1 = forestCanopyHeight1.reduceRegion(**{\n",
        "  'reducer': ee.Reducer.mean(),\n",
        "  'geometry': roi_forest,\n",
        "  #scale: 30,\n",
        "  'bestEffort': True\n",
        "  #maxPixels: 1e9\n",
        "})\n",
        "forestCanopyHeight1 = forestCanopyHeight1.get('GEDI_SAM_v27_b1')\n",
        "\n",
        "HGHT = img_1.multiply(ee.Number(forestCanopyHeight1))"
      ]
    },
    {
      "cell_type": "markdown",
      "id": "e8a733a7",
      "metadata": {
        "id": "e8a733a7"
      },
      "source": [
        "#### Z0M by Verhoef"
      ]
    },
    {
      "cell_type": "code",
      "execution_count": null,
      "id": "e16f9b84",
      "metadata": {
        "id": "e16f9b84"
      },
      "outputs": [],
      "source": [
        "#Constant List\n",
        "PSICORR = img_1.multiply(0.2)\n",
        "CD = img_1.multiply(0.01)\n",
        "CR = img_1.multiply(0.35)\n",
        "CD1 = img_1.multiply(20.6)\n",
        "\n",
        "FRONTALA = PAI.divide(2)\n",
        "\n",
        "GAM1 = (((CR.multiply(FRONTALA)).add(CD)).pow(-0.5))\n",
        "\n",
        "GAM_m = (GAM1.lt(3.33))\n",
        "GAM_m_ = GAM_m.multiply(3.33)\n",
        "\n",
        "GAM_maior = (GAM1.gte(3.33))\n",
        "GAM_maior_ = GAM_maior.multiply(GAM1)\n",
        "\n",
        "GAM = GAM_maior_.add(GAM_m_)\n",
        "\n",
        "DISP1 = (HGHT.multiply(\n",
        "((img_1.subtract((img_1.divide(((CD1.multiply(PAI)).pow(0.5)))))) \\\n",
        ".add((((img_1.exp()).pow((((CD1.multiply(PAI)).pow(0.5)).multiply(-1)))) \\\n",
        ".divide(((CD1.multiply(PAI)).pow(0.5))))))))\n",
        "\n",
        "PAI_menor = PAI.gt(0)\n",
        "\n",
        "DISP_menor = PAI_menor.multiply(1)\n",
        "\n",
        "DISP = DISP_menor.multiply(DISP1)\n",
        "\n",
        "zom_px_px = ((HGHT.subtract(DISP)) \\\n",
        ".multiply(((img_1.exp()).pow((((GAM.multiply(von)).multiply(-1)).add(PSICORR))))))"
      ]
    },
    {
      "cell_type": "markdown",
      "id": "0ce38575",
      "metadata": {
        "id": "0ce38575"
      },
      "source": [
        "### Friction velocity"
      ]
    },
    {
      "cell_type": "markdown",
      "id": "676ab291",
      "metadata": {
        "id": "676ab291"
      },
      "source": [
        "#### Reference heights for climatic products"
      ]
    },
    {
      "cell_type": "code",
      "execution_count": null,
      "id": "21e78cd5",
      "metadata": {
        "id": "21e78cd5"
      },
      "outputs": [],
      "source": [
        "zu = img_1.multiply(10)\n",
        "ztair = img_1.multiply(2)"
      ]
    },
    {
      "cell_type": "markdown",
      "id": "7c28d9bf",
      "metadata": {
        "id": "7c28d9bf"
      },
      "source": [
        "#### u* by Paul"
      ]
    },
    {
      "cell_type": "code",
      "execution_count": null,
      "id": "df67859a",
      "metadata": {
        "id": "df67859a"
      },
      "outputs": [],
      "source": [
        "# #z0m verhoeff 1997 and paul et al. 2014\n",
        "u_ast_ini_terra = (vel_ventbands_abs_terra.multiply(von))\\\n",
        ".divide(((zu.subtract(DISP)).divide(zom_px_px)).log())"
      ]
    },
    {
      "cell_type": "markdown",
      "id": "d5983ee9",
      "metadata": {
        "id": "d5983ee9"
      },
      "source": [
        "### aerodynamic resistance"
      ]
    },
    {
      "cell_type": "markdown",
      "id": "1900b46e",
      "metadata": {
        "id": "1900b46e"
      },
      "source": [
        "#### aerodynamic resistance by Su, Gokmen and Paul"
      ]
    },
    {
      "cell_type": "code",
      "execution_count": null,
      "id": "9edd9ae6",
      "metadata": {
        "id": "9edd9ae6"
      },
      "outputs": [],
      "source": [
        "#soil moisture remote sensing\n",
        "gldas_SoilMoi0_10cm_inst = ee.ImageCollection('NASA/GLDAS/V021/NOAH/G025/T3H') \\\n",
        "      .filter(ee.Filter.date(start, end)) \\\n",
        "      .select(['SoilMoi0_10cm_inst']) \\\n",
        "      .map(clipper)\n",
        "\n",
        "# Daily dataset\n",
        "def func_cac_mean_gldas(day):\n",
        "    day = ee.Date(day)\n",
        "    daily_collection = gldas_SoilMoi0_10cm_inst.filter(ee.Filter.date(day, day.advance(1, 'day')))\n",
        "    convert_Rs = daily_collection.select(['SoilMoi0_10cm_inst']);\n",
        "    convert_Rl_day = convert_Rs.mean().multiply(0.01);\n",
        "    \n",
        "    return convert_Rl_day.set('system:index', day.format('YYYY-MM-dd')) \\\n",
        "    .set('date', day.format('YYYY-MM-dd')) .set('system:time_start', day.millis()) \\\n",
        "    .set('system:time_end', day.millis())\n",
        "\n",
        "#soil moisture day\n",
        "soil_moisture_day = ee.ImageCollection.fromImages(listdates.map(func_cac_mean_gldas))\n",
        "soil_moisture_day_bands = (soil_moisture_day).toBands()\n",
        "soil_moisture_day_max = soil_moisture_day.max()\n",
        "soil_moisture_day_min = soil_moisture_day.min()\n",
        "\n",
        "soil_moisture_day_rel = (soil_moisture_day_bands.subtract(soil_moisture_day_min)) \\\n",
        ".divide(soil_moisture_day_max.subtract(soil_moisture_day_min))\n",
        "\n",
        "#Gokmen et al 2012\n",
        "a_sf = img_1.multiply(0.3)\n",
        "b_sf = img_1.multiply(2.5)\n",
        "c_sf = img_1.multiply(4)\n",
        "temp_sf1 = img_1.add((img_1.exp()).pow((b_sf.subtract((c_sf.multiply(soil_moisture_day_rel))))))\n",
        "temp_sf2 = img_1.divide(temp_sf1)\n",
        "SF = a_sf.add(temp_sf2)"
      ]
    },
    {
      "cell_type": "code",
      "execution_count": null,
      "id": "f73ec80f",
      "metadata": {
        "id": "f73ec80f"
      },
      "outputs": [],
      "source": [
        "#Constant List\n",
        "pr = img_1.multiply(0.71)\n",
        "visc = img_1.multiply(0.00001461)\n",
        "c1 = img_1.multiply(0.320)\n",
        "c2 = img_1.multiply(0.264)\n",
        "cd = img_1.multiply(0.2)\n",
        "ct = img_1.multiply(0.01)\n",
        "\n",
        "Re_ast_terra = (u_ast_ini_terra.multiply(0.009)).divide(visc)\n",
        "ct_ast_terra = (pr.pow(-0.667)).multiply(Re_ast_terra.pow(-0.5))\n",
        "\n",
        "\n",
        "beta_terra = c1.subtract((((cd.multiply(-15.1).multiply(PAI)).exp()).multiply(c2)))\n",
        "\n",
        "kb_1m_terra = (beta_terra.multiply(von).multiply(zom_px_px.divide(HGHT))).divide(ct_ast_terra)\n",
        "\n",
        "# beta2_terra = ((u_ast_ini_terra.pow(2)).multiply(2)).divide(vel_ventbands_abs_terra.pow(2))\n",
        "\n",
        "nec_terra  = (cd.multiply(PAI)).divide(beta_terra.pow(2).multiply(2))\n",
        "\n",
        "kb_1c_terra = (cd.multiply(von))\\\n",
        ".divide(ct.multiply(beta_terra).multiply((img_1.subtract(((img_1.exp()).pow((nec_terra.multiply(-1))\\\n",
        "                                                                           .divide(2)))))).multiply(4))\n",
        "\n",
        "kb_1s_terra = ((Re_ast_terra.pow(0.25)).multiply(2.46)).subtract(2)\n",
        "\n",
        "ndvi_max = NDVIbands.reduceRegion(**{\n",
        "  'reducer': ee.Reducer.max(),\n",
        "  'geometry': ROI,\n",
        "  #scale: 30,\n",
        "  'bestEffort': True\n",
        "  #maxPixels: 1e9\n",
        "})\n",
        "ndvi_max = ndvi_max.toImage()\n",
        "ndvi_max = ndvi_max.clip(ROI)\n",
        "\n",
        "ndvi_min = NDVIbands.reduceRegion(**{\n",
        "  'reducer': ee.Reducer.min(),\n",
        "  'geometry': ROI,\n",
        "  #scale: 30,\n",
        "  'bestEffort': True\n",
        "  #maxPixels: 1e9\n",
        "})\n",
        "ndvi_min = ndvi_min.toImage()\n",
        "ndvi_min = ndvi_min.clip(ROI)\n",
        "\n",
        "fc = img_1.subtract((((NDVIbands.subtract(ndvi_max)).divide(ndvi_min.subtract(ndvi_max))).pow(0.4631)))\n",
        "fs = img_1.subtract(fc)\n",
        "\n",
        "kb_1seb_terra = ((kb_1c_terra.multiply(fc.pow(2))).add((kb_1m_terra.multiply(fc.pow(2)).multiply(fs.pow(2))))\\\n",
        ".add(((fs.pow(2)).multiply(kb_1s_terra)))).multiply(SF)\n",
        "\n",
        "zoh_terra = zom_px_px.divide(((img_1.exp()).pow(kb_1seb_terra)))\n",
        "\n",
        "#PAUL et al 2013 eq12\n",
        "temp_kb_1_terra = ((zom_px_px.divide(zoh_terra)).log())\n",
        "\n",
        "temp_rah1_terra = img_1.divide((u_ast_ini_terra.multiply(von)))\n",
        "\n",
        "temp_rah2 = ((((zu.subtract(DISP)).divide(zom_px_px)).log()).subtract(0))\n",
        "\n",
        "temp_rah3_terra = (temp_rah1_terra.multiply(temp_kb_1_terra))\n",
        "\n",
        "rah_ini_terra = ((temp_rah1_terra.multiply(temp_rah2)).add(temp_rah3_terra))"
      ]
    },
    {
      "cell_type": "markdown",
      "id": "c925ae8f",
      "metadata": {
        "id": "c925ae8f"
      },
      "source": [
        "## Endmembers Pixels"
      ]
    },
    {
      "cell_type": "markdown",
      "id": "9978f035",
      "metadata": {
        "id": "9978f035"
      },
      "source": [
        "### Endmembers Pixels Dry/Hot"
      ]
    },
    {
      "cell_type": "code",
      "execution_count": null,
      "id": "43952059",
      "metadata": {
        "id": "43952059"
      },
      "outputs": [],
      "source": [
        "# pixel hot\n",
        "cand_alb0inf_terra = ALB_ESCbands.reduceRegion(**{\n",
        "    'reducer': ee.Reducer.percentile([50]),\n",
        "    'geometry': ROI,\n",
        "    #scale: 30,\n",
        "    'bestEffort': True\n",
        "    #maxPixels: 1e9\n",
        "  })\n",
        "cand_alb0inf_terra = cand_alb0inf_terra.toImage()\n",
        "cand_alb0inf_terra = cand_alb0inf_terra.clip(ROI)\n",
        "cand_alb0inf_terra = cand_alb0inf_terra.multiply(img_1)\n",
        "\n",
        "cand_alb0sup_terra = ALB_ESCbands.reduceRegion(**{\n",
        "    'reducer': ee.Reducer.percentile([75]),\n",
        "    'geometry': ROI,\n",
        "    #scale: 30,\n",
        "    'bestEffort': True\n",
        "    #maxPixels: 1e9\n",
        "  })\n",
        "cand_alb0sup_terra = cand_alb0sup_terra.toImage()\n",
        "cand_alb0sup_terra = cand_alb0sup_terra.clip(ROI).multiply(img_1)\n",
        "\n",
        "cand_ndvi0sup_terra = NDVIbands.reduceRegion(**{\n",
        "    'reducer': ee.Reducer.percentile([15]),\n",
        "    'geometry': ROI,\n",
        "    #scale: 30,\n",
        "    'bestEffort': True\n",
        "    #maxPixels: 1e9\n",
        "  })\n",
        "cand_ndvi0sup_terra = cand_ndvi0sup_terra.toImage()\n",
        "cand_ndvi0sup_terra = cand_ndvi0sup_terra.clip(ROI).multiply(img_1)\n",
        "\n",
        "\n",
        "cand_pq_alb_ndvi = (ALB_ESCbands.gt(cand_alb0inf_terra).And(ALB_ESCbands.lt(cand_alb0sup_terra))) \\\n",
        ".And((NDVIbands.gt(0.10).And(NDVIbands.lt(cand_ndvi0sup_terra))))\n",
        "\n",
        "temppq0_terra = (LST_ESCbands_terra).multiply(cand_pq_alb_ndvi)\n",
        "\n",
        "temppq_terra = temppq0_terra.selfMask()\n",
        "\n",
        "cand_pq0inf_terra = temppq_terra.reduceRegion(**{\n",
        "    'reducer': ee.Reducer.percentile([85]),\n",
        "    'geometry': ROI,\n",
        "    #scale: 30,\n",
        "    'bestEffort': True\n",
        "    #maxPixels: 1e9\n",
        "  })\n",
        "cand_pq0inf_terra = cand_pq0inf_terra.toImage()\n",
        "cand_pq0inf_terra = cand_pq0inf_terra.clip(ROI).multiply(img_1)\n",
        "\n",
        "cand_pq0sup_terra = temppq_terra.reduceRegion(**{\n",
        "    'reducer': ee.Reducer.percentile([97]),\n",
        "    'geometry': ROI,\n",
        "    #scale: 30,\n",
        "    'bestEffort': True\n",
        "    #maxPixels: 1e9\n",
        "  })\n",
        "cand_pq0sup_terra = cand_pq0sup_terra.toImage()\n",
        "cand_pq0sup_terra = cand_pq0sup_terra.clip(ROI).multiply(img_1)\n",
        "\n",
        "lst_sup_inf_terra = (LST_ESCbands_terra.gt(cand_pq0inf_terra).And(LST_ESCbands_terra.lt(cand_pq0sup_terra)))\n",
        "\n",
        "cand_pq_lst_terra = ((LST_ESCbands_terra.gte(cand_pq0inf_terra).And(LST_ESCbands_terra.lte(cand_pq0sup_terra))))\\\n",
        ".multiply(cand_pq_alb_ndvi)\n",
        "\n",
        "cand_pq_terra = (cand_pq_lst_terra.selfMask()).multiply(img_1)"
      ]
    },
    {
      "cell_type": "markdown",
      "id": "b92591c9",
      "metadata": {
        "id": "b92591c9"
      },
      "source": [
        "### Endmembers Pixels Wet/Cold"
      ]
    },
    {
      "cell_type": "code",
      "execution_count": null,
      "id": "9c79eb96",
      "metadata": {
        "id": "9c79eb96"
      },
      "outputs": [],
      "source": [
        "# pixel cold\n",
        "cand_albPF0inf_terra = ALB_ESCbands.reduceRegion(**{\n",
        "    'reducer': ee.Reducer.percentile([25]),\n",
        "    'geometry': ROI,\n",
        "    #scale: 30,\n",
        "    'bestEffort': True\n",
        "    #maxPixels: 1e9\n",
        "  })\n",
        "cand_albPF0inf_terra = cand_albPF0inf_terra.toImage()\n",
        "cand_albPF0inf_terra = cand_albPF0inf_terra.clip(ROI)\n",
        "\n",
        "cand_albPF0sup_terra = ALB_ESCbands.reduceRegion(**{\n",
        "    'reducer': ee.Reducer.percentile([50]),\n",
        "    'geometry': ROI,\n",
        "    #scale: 30,\n",
        "    'bestEffort': True\n",
        "    #maxPixels: 1e9\n",
        "  })\n",
        "cand_albPF0sup_terra = cand_albPF0sup_terra.toImage()\n",
        "cand_albPF0sup_terra = cand_albPF0sup_terra.clip(ROI)\n",
        "\n",
        "cand_ndvi0PFsup_terra = NDVIbands.reduceRegion(**{\n",
        "    'reducer': ee.Reducer.percentile([97]),\n",
        "    'geometry': ROI,\n",
        "    #scale: 30,\n",
        "    'bestEffort': True\n",
        "    #maxPixels: 1e9\n",
        "  })\n",
        "cand_ndvi0PFsup_terra = cand_ndvi0PFsup_terra.toImage()\n",
        "cand_ndvi0PFsup_terra = cand_ndvi0PFsup_terra.clip(ROI)\n",
        "\n",
        "\n",
        "cand_pf_alb_ndvi = (ALB_ESCbands.gt(cand_albPF0inf_terra).And(ALB_ESCbands.lt(cand_albPF0sup_terra))) \\\n",
        ".And((NDVIbands.gt(cand_ndvi0PFsup_terra).And(NDVIbands.lt(0.99))))\n",
        "\n",
        "temppf0_terra = (LST_ESCbands_terra).multiply(cand_pf_alb_ndvi)\n",
        "\n",
        "temppf_terra = temppf0_terra.selfMask()\n",
        "\n",
        "cand_pf0inf_terra = temppf_terra.reduceRegion(**{\n",
        "    'reducer': ee.Reducer.percentile([0]),\n",
        "    'geometry': ROI,\n",
        "    #scale: 30,\n",
        "    'bestEffort': True\n",
        "    #maxPixels: 1e9\n",
        "  })\n",
        "cand_pf0inf_terra = cand_pf0inf_terra.toImage()\n",
        "cand_pf0inf_terra = cand_pf0inf_terra.clip(ROI)\n",
        "\n",
        "cand_pf0sup_terra = temppf_terra.reduceRegion(**{\n",
        "    'reducer': ee.Reducer.percentile([20]),\n",
        "    'geometry': ROI,\n",
        "    #scale: 30,\n",
        "    'bestEffort': True\n",
        "    #maxPixels: 1e9\n",
        "  })\n",
        "cand_pf0sup_terra = cand_pf0sup_terra.toImage()\n",
        "cand_pf0sup_terra = cand_pf0sup_terra.clip(ROI)\n",
        "\n",
        "cand_pf_lst_terra = ((LST_ESCbands_terra.gte(cand_pf0inf_terra).And(LST_ESCbands_terra.lte(cand_pf0sup_terra))))\\\n",
        ".multiply(cand_pf_alb_ndvi)\n",
        "\n",
        "cand_pf_terra = cand_pf_lst_terra.selfMask()"
      ]
    },
    {
      "cell_type": "markdown",
      "id": "df969071",
      "metadata": {
        "id": "df969071"
      },
      "source": [
        "## Start loop | iterations"
      ]
    },
    {
      "cell_type": "code",
      "execution_count": null,
      "id": "bd3b30dc",
      "metadata": {
        "id": "bd3b30dc"
      },
      "outputs": [],
      "source": [
        "Rn_pq_terra = (cand_pq_terra).multiply(Rn_1_terra)\n",
        "Rn_pq_terra = Rn_pq_terra.reduceRegion(**{\n",
        "    'reducer': ee.Reducer.median(),\n",
        "    'geometry': ROI,\n",
        "    #scale: 30,\n",
        "    'bestEffort': True\n",
        "    #maxPixels: 1e9\n",
        "})\n",
        "\n",
        "Rn_pq_terra = Rn_pq_terra.toImage()\n",
        "Rn_1_quentelst_img_terra = Rn_pq_terra.clip(ROI)\n",
        "\n",
        "Rn_pf_terra = (cand_pf_terra).multiply(Rn_1_terra)\n",
        "Rn_pf_terra = Rn_pf_terra.reduceRegion(**{\n",
        "    'reducer': ee.Reducer.median(),\n",
        "    'geometry': ROI,\n",
        "    #scale: 30,\n",
        "    'bestEffort': True\n",
        "    #maxPixels: 1e9\n",
        "})\n",
        "\n",
        "Rn_pf_terra = Rn_pf_terra.toImage()\n",
        "Rn_friolst_img_terra = Rn_pf_terra.clip(ROI)"
      ]
    },
    {
      "cell_type": "code",
      "execution_count": null,
      "id": "fad4d770",
      "metadata": {
        "id": "fad4d770"
      },
      "outputs": [],
      "source": [
        "G_pq_terra = (cand_pq_terra).multiply(G1_terra)\n",
        "G_pq_terra = G_pq_terra.reduceRegion(**{\n",
        "    'reducer': ee.Reducer.median(),\n",
        "    'geometry': ROI,\n",
        "    #scale: 30,\n",
        "    'bestEffort': True\n",
        "    #maxPixels: 1e9\n",
        "})\n",
        "\n",
        "G_pq_terra = G_pq_terra.toImage()\n",
        "G_quentelst_img_terra = G_pq_terra.clip(ROI)\n",
        "\n",
        "G_pf_terra = (cand_pf_terra).multiply(G1_terra)\n",
        "G_pf_terra = G_pf_terra.reduceRegion(**{\n",
        "    'reducer': ee.Reducer.median(),\n",
        "    'geometry': ROI,\n",
        "    #scale: 30,\n",
        "    'bestEffort': True\n",
        "    #maxPixels: 1e9\n",
        "})\n",
        "\n",
        "G_pf_terra = G_pf_terra.toImage()\n",
        "G_friolst_img_terra = G_pf_terra.clip(ROI)"
      ]
    },
    {
      "cell_type": "code",
      "execution_count": null,
      "id": "5e65ea32",
      "metadata": {
        "id": "5e65ea32"
      },
      "outputs": [],
      "source": [
        "T_pq_terra = (cand_pq_terra).multiply(LST_ESCbands_terra)\n",
        "T_pq_terra = T_pq_terra.reduceRegion(**{\n",
        "    'reducer': ee.Reducer.median(),\n",
        "    'geometry': ROI,\n",
        "    #scale: 30,\n",
        "    'bestEffort': True\n",
        "    #maxPixels: 1e9\n",
        "})\n",
        "\n",
        "T_pq_terra = T_pq_terra.toImage()\n",
        "T_quentelst_img_terra = T_pq_terra.clip(ROI)\n",
        "\n",
        "T_pf_terra = (cand_pf_terra).multiply(LST_ESCbands_terra)\n",
        "T_pf_terra = T_pf_terra.reduceRegion(**{\n",
        "    'reducer': ee.Reducer.median(),\n",
        "    'geometry': ROI,\n",
        "    #scale: 30,\n",
        "    'bestEffort': True\n",
        "    #maxPixels: 1e9\n",
        "})\n",
        "\n",
        "T_pf_terra = T_pf_terra.toImage()\n",
        "T_friolst_img_terra = T_pf_terra.clip(ROI)"
      ]
    },
    {
      "cell_type": "code",
      "execution_count": null,
      "id": "c7801a1f",
      "metadata": {
        "id": "c7801a1f"
      },
      "outputs": [],
      "source": [
        "#Slope of the vapor pressure curve at saturation\n",
        "delta_p_vapor_hr_terra = (eo_Th_hr_terra.multiply(4098)).divide((((T_air_band_C_terra).add(237.3)).pow(2)))\n",
        "        \n",
        "const_psi_hr_terra = P_atm_hr_terra.multiply(0.000665)\n",
        "\n",
        "densi_ar_terra = (P_atm_hr_terra.multiply(1000)).divide(T_air_band_K_terra.multiply(1.01).multiply(287.04))\n",
        "        \n",
        "temp_LEc_terra = delta_p_vapor_hr_terra.divide(const_psi_hr_terra.add(delta_p_vapor_hr_terra))"
      ]
    },
    {
      "cell_type": "code",
      "execution_count": null,
      "id": "c0acd42b",
      "metadata": {
        "id": "c0acd42b"
      },
      "outputs": [],
      "source": [
        "teste_rah = ee.Number(0)\n",
        "contador_loop =0\n",
        "while (contador_loop<2):\n",
        "       \n",
        "        rah_ini_pq_terra = (cand_pq_terra).multiply(rah_ini_terra)\n",
        "        rah_ini_pq_terra = rah_ini_pq_terra.reduceRegion(**{\n",
        "            'reducer': ee.Reducer.median(),\n",
        "            'geometry': ROI,\n",
        "            #scale: 30,\n",
        "            'bestEffort': True\n",
        "            #maxPixels: 1e9\n",
        "        })\n",
        "        rah_ini_pq_terra = rah_ini_pq_terra.toImage()\n",
        "        rah_ini_quentelst_img_terra = rah_ini_pq_terra.clip(ROI)\n",
        "        \n",
        "\n",
        "        rah_ini_pf_terra = (cand_pf_terra).multiply(rah_ini_terra)\n",
        "        rah_ini_pf_terra = rah_ini_pf_terra.reduceRegion(**{\n",
        "            'reducer': ee.Reducer.median(),\n",
        "            'geometry': ROI,\n",
        "            #scale: 30,\n",
        "            'bestEffort': True\n",
        "            #maxPixels: 1e9\n",
        "        })\n",
        "        rah_ini_pf_terra = rah_ini_pf_terra.toImage()\n",
        "        rah_friolst_img_terra = rah_ini_pf_terra.clip(ROI)\n",
        "\n",
        "        \n",
        "        LEc_terra = (img_1.multiply(0.55)).multiply(fc).multiply(Rn_1_quentelst_img_terra.subtract(G_quentelst_img_terra)).multiply(temp_LEc_terra)\n",
        "\n",
        "        LEc_terra_pf = (img_1.multiply(1.75)).multiply(fc).multiply(Rn_friolst_img_terra.subtract(G_friolst_img_terra)).multiply(temp_LEc_terra)\n",
        "\n",
        "        H_pf_terra = (Rn_friolst_img_terra.subtract(G_friolst_img_terra)).subtract(LEc_terra_pf)\n",
        "\n",
        "        dt_pf_terra = (H_pf_terra.multiply(rah_friolst_img_terra)).divide((img_1.multiply(densi_ar_terra)).multiply(1004))\n",
        "\n",
        "        H_pq_terra = (Rn_1_quentelst_img_terra.subtract(G_quentelst_img_terra)).subtract(LEc_terra)\n",
        "\n",
        "        dt_pq_terra = (H_pq_terra.multiply(rah_ini_quentelst_img_terra))\\\n",
        "        .divide((img_1.multiply(densi_ar_terra)).multiply(1004))\n",
        "        \n",
        "        \n",
        "        b_ini_terra = (dt_pq_terra.subtract(dt_pf_terra)).divide(T_quentelst_img_terra.subtract(T_friolst_img_terra))\n",
        "        a_ini_terra = dt_pf_terra.subtract(b_ini_terra.multiply(T_friolst_img_terra))\n",
        "        dT_ini_terra = (LST_ESCbands_terra.multiply(b_ini_terra)).add(a_ini_terra)\n",
        "        \n",
        "        H_ini_terra = (dT_ini_terra.divide(rah_ini_terra)).multiply(((img_1.multiply(densi_ar_terra)).multiply(1004)))\n",
        "        \n",
        "        #Monin-Obukhov L\n",
        "        \n",
        "        L_MB_terra = H_ini_terra.expression(\n",
        "            '-1.15*1004*ufp**3*Tsup/(0.41*9.81*H)', {\n",
        "                'H':H_ini_terra,\n",
        "                'Tsup': LST_ESCbands_terra,\n",
        "                'ufp': u_ast_ini_terra\n",
        "            })\n",
        "        \n",
        "        psi_m200_terra = H_ini_terra.expression(\n",
        "            '(L<0)*((2*log((1+((1-16*(10-DISP)/L)**0.25))/2)+log((1+((1-16*(10-DISP)/L)**0.25)**2)/2)-2*atan((1-16*(10-DISP)/L)**0.25)+0.5*3.14159265359))+((L>0)*(-5*((10-DISP)/L)))', {\n",
        "                'L':L_MB_terra,\n",
        "                'DISP':DISP\n",
        "            })\n",
        "\n",
        "        \n",
        "        psi_m2_terra = H_ini_terra.expression(\n",
        "            '(L<0)*(2*log((1+((1-16*(10-DISP)/L)**0.25)**2)/2))+((L>0)*(-5*((10-DISP)/L)))', {\n",
        "                'L':L_MB_terra,\n",
        "                'DISP':DISP\n",
        "          })\n",
        "        \n",
        "        u_ast_corr_terra = H_ini_terra.expression(\n",
        "            '(k*u200)/(log((10-DISP)/z0)-psi_m200)', {\n",
        "                'u200': u_ast_ini_terra,\n",
        "                'DISP':DISP,\n",
        "                'z0': zom_px_px,\n",
        "                'k': 0.41,\n",
        "                'psi_m200':psi_m200_terra\n",
        "            })\n",
        "        \n",
        "        temp_rah1_corr_terra = img_1.divide((u_ast_corr_terra.multiply(von)))\n",
        "        temp_rah2_corr_terra = ((((zu.subtract(DISP)).divide(zom_px_px)).log()).subtract(psi_m2_terra))\n",
        "        temp_rah3_corr_terra = (temp_rah1_corr_terra.multiply(temp_kb_1_terra))\n",
        "\n",
        "        rah_corr_terra = ((temp_rah1_corr_terra.multiply(temp_rah2_corr_terra)).add(temp_rah3_corr_terra))\n",
        "        \n",
        "        #Error rah\n",
        "        rah_dif_terra =  rah_ini_terra.subtract(rah_corr_terra)\n",
        "        rah_dif_terra = ee.Algorithms.If(rah_dif_terra.lt(0), rah_dif_terra.multiply(-1), rah_dif_terra )\n",
        "        rah_dif_terra = img_1.multiply(rah_dif_terra)\n",
        "        teste_rah_terra = rah_dif_terra.multiply(100).divide(rah_corr_terra)\n",
        "\n",
        "        rah_ini_terra = rah_corr_terra\n",
        "        u_ast_ini_terra = u_ast_corr_terra\n",
        "        \n",
        "        contador_loop = contador_loop + 1"
      ]
    },
    {
      "cell_type": "markdown",
      "id": "8e378225",
      "metadata": {
        "id": "8e378225"
      },
      "source": [
        "## Sensible heat flux H"
      ]
    },
    {
      "cell_type": "code",
      "execution_count": null,
      "id": "8764ab21",
      "metadata": {
        "id": "8764ab21"
      },
      "outputs": [],
      "source": [
        "H_corr1i0_terra = ((H_ini_terra).lt(0)).multiply(0.01)\n",
        "H_corr1i1_terra = ((H_ini_terra).gte(0)).multiply(H_ini_terra)\n",
        "\n",
        "H_end_terra = H_corr1i0_terra.add((H_corr1i1_terra))"
      ]
    },
    {
      "cell_type": "markdown",
      "id": "b6074f46",
      "metadata": {
        "id": "b6074f46"
      },
      "source": [
        "## Latent heat flux LE"
      ]
    },
    {
      "cell_type": "code",
      "execution_count": null,
      "id": "ebf38d7d",
      "metadata": {
        "id": "ebf38d7d"
      },
      "outputs": [],
      "source": [
        "LE_terra = ((Rn_1_terra).subtract(G1_terra)).subtract(H_end_terra)\n",
        "\n",
        "LE_F1_terra = ((LE_terra).lt(0)).multiply(0.01)\n",
        "LE_F2_terra = ((LE_terra).gte(0)).multiply(LE_terra)\n",
        "\n",
        "LE_F_terra = LE_F1_terra.add((LE_F2_terra))"
      ]
    },
    {
      "cell_type": "markdown",
      "id": "6c514652",
      "metadata": {
        "id": "6c514652"
      },
      "source": [
        "## Compute evapotranspiration day"
      ]
    },
    {
      "cell_type": "code",
      "execution_count": null,
      "id": "405df418",
      "metadata": {
        "id": "405df418"
      },
      "outputs": [],
      "source": [
        "pre_calc = ((img_1.multiply(86400)).divide(((img_1.multiply(2.501)).subtract((T_air_band_C_terra.multiply(0.00236)))))).multiply(0.000001)\n",
        "\n",
        "temp_ETa1_terra = (LE_F_terra.divide((Rn_1_terra.subtract(G1_terra)))).multiply(pre_calc)\n",
        "FE_f = temp_ETa1_terra\n",
        "\n",
        "ETa_SEBAL_2_terra = FE_f.multiply(Rn24)"
      ]
    }
  ],
  "metadata": {
    "hide_input": false,
    "kernelspec": {
      "display_name": "Python 3",
      "language": "python",
      "name": "python3"
    },
    "language_info": {
      "codemirror_mode": {
        "name": "ipython",
        "version": 3
      },
      "file_extension": ".py",
      "mimetype": "text/x-python",
      "name": "python",
      "nbconvert_exporter": "python",
      "pygments_lexer": "ipython3",
      "version": "3.8.10"
    },
    "toc": {
      "base_numbering": 1,
      "nav_menu": {},
      "number_sections": true,
      "sideBar": true,
      "skip_h1_title": false,
      "title_cell": "Table of Contents",
      "title_sidebar": "Contents",
      "toc_cell": false,
      "toc_position": {
        "height": "calc(100% - 180px)",
        "left": "10px",
        "top": "150px",
        "width": "293px"
      },
      "toc_section_display": true,
      "toc_window_display": true
    },
    "colab": {
      "provenance": [],
      "toc_visible": true,
      "include_colab_link": true
    }
  },
  "nbformat": 4,
  "nbformat_minor": 5
}